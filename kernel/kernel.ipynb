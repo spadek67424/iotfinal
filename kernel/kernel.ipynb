{
 "cells": [
  {
   "cell_type": "code",
   "execution_count": 157,
   "metadata": {},
   "outputs": [
    {
     "ename": "IndentationError",
     "evalue": "expected an indented block (<ipython-input-157-a8aab5ab332b>, line 323)",
     "output_type": "error",
     "traceback": [
      "\u001b[0;36m  File \u001b[0;32m\"<ipython-input-157-a8aab5ab332b>\"\u001b[0;36m, line \u001b[0;32m323\u001b[0m\n\u001b[0;31m    def show_parkingInfo(self):\u001b[0m\n\u001b[0m      ^\u001b[0m\n\u001b[0;31mIndentationError\u001b[0m\u001b[0;31m:\u001b[0m expected an indented block\n"
     ]
    }
   ],
   "source": [
    "import numpy as np\n",
    "import time\n",
    "\n",
    "class kernel:\n",
    "    def __init__(self, block_num=8, # theres <block_num> parking space a side (kernel)\n",
    "                 basePrice=40, # at least <basePrice> dollar a timeInterval\n",
    "                 carspaceNum=4, # a car space equals to <carspaceNum> scooters space\n",
    "                 timeInterval=60 # 1 min\n",
    "                ):\n",
    "        \n",
    "        # variable\n",
    "        self.totalIncome = 0\n",
    "        self.mainPriority = 0 # lowest (vacant parking space)\n",
    "        self.mainBias = 0 # 1 if other space have higher priority\n",
    "        self.foreignPriority = 0\n",
    "        \n",
    "        # custom variable\n",
    "        self.timeInterval = timeInterval\n",
    "        self.carspaceNum = carspaceNum\n",
    "        self.space_num = block_num\n",
    "        self.basePrice = basePrice\n",
    "        self.parkingPriority = block_num + 2 # parking vehicle\n",
    "\n",
    "        # list\n",
    "        self.price_list = np.array([0]*block_num)\n",
    "        self.priority_list = np.array([0]*block_num)\n",
    "        self.parking_list = np.array([0]*block_num)\n",
    "        self.distance_list = np.array([block_num]*block_num)\n",
    "        self.accPrice_list = np.array([0]*block_num)\n",
    "        self.nearestVehicleIdx_list = np.array([idx for idx in range(block_num)])\n",
    "        self.parkingstarttime_list = np.array([0]*block_num)\n",
    "        self.vehicleLabel_list = np.array([-1]*block_num)\n",
    "        \n",
    "        # process\n",
    "        self.update_price_list()\n",
    "        self.update_mainBias()\n",
    "        \n",
    "    def findParkingspace(self, vehicle): # vehicle 0:scooter 1:car\n",
    "        edgeDistance = 0\n",
    "        vehicleDistance = 0\n",
    "        edgeDistanceFromVehicle = 0\n",
    "        space_index = -1\n",
    "        \n",
    "        if self.parking_list.min() == 1: # full parking vehicle\n",
    "#             print('none')\n",
    "            space_index = -1\n",
    "        elif self.parking_list.max() == 0: # no parking vehicle\n",
    "#             print('all')\n",
    "            if vehicle: # car\n",
    "#                 for idx in range(-1,-(self.carspaceNum)-1,-1):\n",
    "#                     self.parking_list[idx] = 1 # park vehicle\n",
    "                space_index = (self.space_num-self.carspaceNum)\n",
    "            else: # scooter\n",
    "#                 self.parking_list[0] = 1\n",
    "                space_index = 0\n",
    "        \n",
    "        else: # there're some parking vehicle\n",
    "#             print('some')\n",
    "            if vehicle: # car\n",
    "                count=0\n",
    "                begin = self.space_num-1\n",
    "                for idx in range(self.space_num-1,-1,-1):\n",
    "                    if self.parking_list[idx]==0:\n",
    "                        count+=1\n",
    "                    else:\n",
    "                        count=0\n",
    "                    if count==4:\n",
    "#                         for in_idx in range(idx, idx-self.carspaceNum, -1):\n",
    "#                             self.parking_list[in_idx] = 1\n",
    "                        space_index = idx # vehicle 起始位置\n",
    "            else: # scooter \n",
    "#                 self.parking_list[self.priority_list.argmin()] = 1\n",
    "                space_index = self.parking_list.argmin() # derive first min index\n",
    "        \n",
    "        self.mark_parking_list(space_index, vehicle)\n",
    "        self.updateLists(space_index, vehicle)\n",
    "        \n",
    "        # self.broadcast_Pi_priorty()    \n",
    "    \n",
    "    def ParkVehicle(self,space_index, vehicle):\n",
    "        self.mark_parkingstarttime_list(space_index, vehicle)\n",
    "        self.mark_parking_list(space_index, vehicle)\n",
    "        self.updateLists(space_index)\n",
    "    \n",
    "    def LeaveVehicle(self, space_index, vehicle):        \n",
    "        self.unmark_parkingleavetime_list(space_index)\n",
    "        self.unmark_parking_list(space_index)\n",
    "        self.updateLists(space_index)\n",
    "        \n",
    "    ################# update main func ######################\n",
    "    def updateLists(self, space_idx):\n",
    "        if not space_idx ==-1:\n",
    "            self.update_distance_list()\n",
    "            self.update_nearestVehicleIdx_list()\n",
    "            self.update_priority_list()\n",
    "            self.update_price_list()\n",
    "\n",
    "    ################## mark func. #######################\n",
    "    def mark_parking_list(self, space_idx, vehicle):\n",
    "        if vehicle ==1: # car\n",
    "            for idx in range(self.carspaceNum):\n",
    "                self.parking_list[space_idx+idx] = 1\n",
    "                self.priority_list[space_idx+idx] = self.parkingPriority\n",
    "        else: # scooter\n",
    "            self.parking_list[space_idx] = 1\n",
    "            self.priority_list[space_idx] = self.parkingPriority\n",
    "            \n",
    "    def unmark_parking_list(self, space_idx):\n",
    "        vehicle = self.vehicleLabel_list[space_idx]\n",
    "        \n",
    "        if vehicle ==1: # car\n",
    "            for idx in range(self.carspaceNum):\n",
    "                self.parking_list[space_idx+idx] = 0\n",
    "        else: # scooter\n",
    "            self.parking_list[space_idx] = 0\n",
    "            \n",
    "    def mark_vehicleLabel_list(self, space_idx, vehicle):\n",
    "        if vehicle ==1:\n",
    "            for idx in range(self.carspaceNum):\n",
    "                self.vehicleLabel_list[space_idx+idx] = 1 # car\n",
    "        else:\n",
    "            self.vehicleLabel_list[space_idx] = 0 # scooter\n",
    "                \n",
    "    def unmark_vehicleLabel_list(self, space_idx):\n",
    "        if vehicle ==1:\n",
    "            for idx in range(self.carspaceNum):\n",
    "                self.vehicleLabel_list[space_idx+idx] = -1\n",
    "        else:\n",
    "            self.vehicleLabel_list[space_idx] = -1\n",
    "    \n",
    "    def mark_parkingstarttime_list(self, space_idx, vehicle):\n",
    "        parkingtime = time.time()\n",
    "        if vehicle==1: # car\n",
    "            for idx in range(self.carspaceNum):\n",
    "                self.parkingstarttime_list[space_idx+idx] = parkingtime\n",
    "        else: # scooter\n",
    "            self.parkingstarttime_list[space_idx] = parkingtime\n",
    "            \n",
    "    def unmark_parkingleavetime_list(self, space_idx):\n",
    "        leavetime = time.time()\n",
    "        starttime = self.parkingstarttime_list[space_idx]\n",
    "        price = self.price_list[space_idx]\n",
    "        vehicle = self.vehicleLabel_list[space_idx]\n",
    "        \n",
    "        # get income updated\n",
    "        self.update_totalIncome(starttime, leavetime, price)\n",
    "\n",
    "        if vehicle==1:\n",
    "            for idx in range(self.carspaceNum):\n",
    "                self.parkingstarttime_list[space_idx+idx]=0\n",
    "        else:\n",
    "            self.parkingstarttime_list[space_idx] = 0\n",
    "    \n",
    "\n",
    "    ################# update func. #######################\n",
    "    def update_distance_list(self):\n",
    "        # According to parking list, update distance list,\n",
    "        # which record distance to nearest parking vehicle\n",
    "        \n",
    "        if max(self.parking_list)!=0:\n",
    "            distance = self.space_num\n",
    "            for idx in range(self.space_num):\n",
    "                if self.parking_list[idx] ==1: # full\n",
    "                    distance = 0\n",
    "                else: \n",
    "                    distance +=1\n",
    "                self.distance_list[idx] = distance\n",
    "\n",
    "            #reverse\n",
    "            distance = self.space_num\n",
    "            for idx in range(self.space_num-1,-1,-1):\n",
    "                distance = (0 if self.parking_list[idx] ==1 else distance+1)\n",
    "                self.distance_list[idx] = min(distance,  self.distance_list[idx])\n",
    "        else: # vacant parking space\n",
    "            self.parking_list = np.array([0]*block_num)\n",
    "                        \n",
    "        \n",
    "    def update_nearestVehicleIdx_list(self):\n",
    "        # According to distance_list, update nearestVehicle_list,\n",
    "        # which store nearest parking vehicle's index\n",
    "        \n",
    "        if max(self.parking_list)!=0:\n",
    "            for idx in range(self.space_num):\n",
    "\n",
    "                # for candidate idx\n",
    "                idx_parkingspace = idx_left = idx_right = -1\n",
    "                # main\n",
    "                space_side_label = ''\n",
    "                distance = self.distance_list[idx]\n",
    "\n",
    "                if distance !=0: # if parking space vacant\n",
    "                    # phase 1 : check current space side\n",
    "                    if (self.space_num != 2*int(self.space_num/2)) and (idx==int(self.space_num/2)):\n",
    "                        # if space_num is odd and idx in the middle\n",
    "                        space_side_label = 'middle'\n",
    "                    elif idx < self.space_num/2 : # left\n",
    "                        space_side_label = 'left'\n",
    "                    else:\n",
    "                        space_side_label = 'right'\n",
    "\n",
    "                    # phase 2 : check nearest vehicle idx\n",
    "                    idx_left = idx - distance\n",
    "                    idx_right = idx + distance\n",
    "\n",
    "                    if idx_left < 0 : # idx_left out of bound\n",
    "                        idx_parkingspace = idx_right\n",
    "                    elif not idx_right < self.space_num : # idx_right out of bound\n",
    "                        idx_parkingspace = idx_left\n",
    "                    elif self.distance_list[idx_left] == self.distance_list[idx_right] : # both 0\n",
    "                        idx_parkingspace = (idx_right if space_side_label =='right' else idx_left)\n",
    "                    else: # one side have smaller distance (equals to 0)\n",
    "                        idx_parkingspace = (idx_left if self.distance_list[idx_left] ==0 else idx_right)\n",
    "\n",
    "                    self.nearestVehicleIdx_list[idx] = idx_parkingspace\n",
    "                else: # full parking space\n",
    "                    idx_parkingspace = idx\n",
    "\n",
    "                self.nearestVehicleIdx_list[idx] = idx_parkingspace   \n",
    "        else:\n",
    "            self.nearestVehicleIdx_list = np.array([idx for idx in range(block_num)])\n",
    "    \n",
    "    def update_priority_list(self):       \n",
    "        ## if A shortest side and urs are different, then priority = self.space_num\n",
    "        ## else priority = 2 * shortest side length \n",
    "        \n",
    "        if max(self.parking_list) != 0:\n",
    "            for idx in range(self.space_num):\n",
    "    #             print('idx:'+str(idx))\n",
    "                space_side_label = ''\n",
    "                if self.distance_list[idx] != 0: # vacancy\n",
    "                    idx_nearest = self.nearestVehicleIdx_list[idx]\n",
    "\n",
    "                    # phase 1 : check current space side\n",
    "                    if (self.space_num != 2*int(self.space_num/2)) and ((idx==int(self.space_num/2)) or (idx_nearest==int(self.space_num/2))):\n",
    "    #                     print('odd array ~')\n",
    "                        # if space_num is odd and idx in the middle\n",
    "                        self.priority_list[idx] = self.space_num + 1\n",
    "                    elif idx < self.space_num/2 : # left\n",
    "    #                     print('left')\n",
    "                        if idx_nearest < idx :\n",
    "                            self.priority_list[idx] = (idx+1) * 2\n",
    "                        elif idx_nearest < self.space_num/2 : #left\n",
    "                            self.priority_list[idx] = (idx_nearest+1) * 2\n",
    "                        else:\n",
    "                            self.priority_list[idx] = self.space_num + 1\n",
    "                    else: # right\n",
    "    #                     print('right')\n",
    "                        if idx_nearest > idx :\n",
    "                            self.priority_list[idx] = (self.space_num-idx) * 2\n",
    "                        elif idx_nearest >= self.space_num/2 : #left\n",
    "                            self.priority_list[idx] = (self.space_num-idx_nearest) * 2\n",
    "                        else:\n",
    "                            self.priority_list[idx] = self.space_num + 1\n",
    "\n",
    "                else: # reset to init value (space_num + 2)\n",
    "                    self.priority_list[idx] = self.parkingPriority\n",
    "        else:\n",
    "            self.priority_list = np.array([0]*block_num)\n",
    "        self.update_mainPriority()\n",
    "    \n",
    "    def update_price_list(self):\n",
    "        bias = self.mainBias\n",
    "        \n",
    "        # update parking space prices where space is vacant and priority has been changed\n",
    "        for idx in range(self.space_num):\n",
    "            if self.parking_list[idx] == 0 : # vacancy\n",
    "                # update price\n",
    "                self.price_list[idx] = self.basePrice + self.priority_list[idx] + bias - self.mainPriority\n",
    "        \n",
    "    #####################################################\n",
    "    \n",
    "    def update_from_broadcast(self, foreignPriority, foreign_vehicle_num): \n",
    "        # vehicle_num = sum(self.parking_list):\n",
    "        if self.mainPriority < self.foreignPriority :# or (self.foreignPriority==self.mainPriority and vehicle_num > self.foreign_vehicle_num):\n",
    "            self.mainBias = 1\n",
    "            self.foreignPriority = foreignPriority\n",
    "        else:\n",
    "            self.mainBias = 0\n",
    "            self.foreignPriority = self.mainPriority\n",
    "        self.update_price_list()\n",
    "\n",
    "    def update_mainBias(self):\n",
    "        if self.mainPriority < self.foreignPriority:\n",
    "            mainBias = 1\n",
    "        else:\n",
    "            mainBias = 0\n",
    "\n",
    "    def update_mainPriority(self):\n",
    "        self.mainPriority = min(self.priority_list)\n",
    "        self.update_mainBias()\n",
    "    \n",
    "    def update_totalIncome(self, starttime, leavetime, price):\n",
    "        times = int((leavetime - starttime)/self.timeInterval) + 1\n",
    "        self.totalIncome += (times * price)\n",
    "        self.show_ParkingSpacePrice()\n",
    "        \n",
    "    #####################################################\n",
    "    def showLists(self):\n",
    "        print(\"parking list : \")\n",
    "        print(self.parking_list)\n",
    "        print(\"distance_list : \")\n",
    "        print(self.distance_list )\n",
    "        print(\"nearestVehicleIdx_list : \")\n",
    "        print(self.nearestVehicleIdx_list)\n",
    "        print(\"priority list : \")\n",
    "        print(self.priority_list)\n",
    "        print(\"price list : \")\n",
    "        print(self.price_list)\n",
    "        print(\"vehicleLabel list\")\n",
    "        print(self.vehicleLabel_list)\n",
    "        print(\"parkingstarttime list\")\n",
    "        print([int(time.time()-t) if t>0 else 0 for t in self.parkingstarttime_list])\n",
    "    \n",
    "    def showStatus(self):\n",
    "        print(\"mainPriority\")\n",
    "        print(self.mainPriority)\n",
    "        print(\"mainBias\")\n",
    "        print(self.mainBias)\n",
    "        print(\"totalIncome\")\n",
    "        print(self.totalIncome)\n",
    "    \n",
    "    def show_priceInfo(self):\n",
    "        print('price list : ' + str(self.price_list))\n",
    "        \n",
    "    def show_parkInfo(self, space_idx):\n",
    "        \n",
    "        \n",
    "    def show_leaveInfo(self):\n",
    "        "
   ]
  },
  {
   "cell_type": "markdown",
   "metadata": {},
   "source": [
    "# Process"
   ]
  },
  {
   "cell_type": "code",
   "execution_count": 149,
   "metadata": {
    "collapsed": true
   },
   "outputs": [],
   "source": [
    "block_num =8\n",
    "# condition 3\n",
    "Kernel = kernel(block_num) # 8 parking space \n",
    "# Kernel.ParkVehicle(space_index=18,vehicle=0)\n",
    "# Kernel.ParkVehicle(space_index=5,vehicle=1)"
   ]
  },
  {
   "cell_type": "code",
   "execution_count": 154,
   "metadata": {
    "collapsed": true
   },
   "outputs": [],
   "source": [
    "Kernel.ParkVehicle(space_index=0,vehicle=0)"
   ]
  },
  {
   "cell_type": "code",
   "execution_count": 155,
   "metadata": {},
   "outputs": [
    {
     "name": "stdout",
     "output_type": "stream",
     "text": [
      "parking list : \n",
      "[1 1 0 0 0 0 0 0]\n",
      "distance_list : \n",
      "[0 0 1 2 3 4 5 6]\n",
      "nearestVehicleIdx_list : \n",
      "[0 1 1 1 1 1 1 1]\n",
      "priority list : \n",
      "[10 10  6  8  9  9  9  9]\n",
      "price list : \n",
      "[40 40 40 42 43 43 43 43]\n",
      "vehicleLabel list\n",
      "[-1 -1 -1 -1 -1 -1 -1 -1]\n",
      "parkingstarttime list\n",
      "[3, 15, 0, 0, 0, 0, 0, 0]\n",
      "--------------------\n",
      "mainPriority\n",
      "6\n",
      "mainBias\n",
      "0\n",
      "totalIncome\n",
      "0\n"
     ]
    }
   ],
   "source": [
    "Kernel.showLists()\n",
    "print('--------------------')\n",
    "Kernel.showStatus()"
   ]
  },
  {
   "cell_type": "code",
   "execution_count": 143,
   "metadata": {},
   "outputs": [
    {
     "name": "stdout",
     "output_type": "stream",
     "text": [
      "parking list : \n",
      "[1 1 1 0 0 0 0 0]\n",
      "distance_list : \n",
      "[0 0 0 1 2 3 4 5]\n",
      "nearestVehicleIdx_list : \n",
      "[0 1 2 2 2 2 2 2]\n",
      "priority list : \n",
      "[10 10 10  8  9  9  9  9]\n",
      "price list : \n",
      "[40 40 40 41 42 42 42 42]\n",
      "vehicleLabel list\n",
      "[-1 -1 -1 -1 -1 -1 -1 -1]\n",
      "parkingstarttime list\n",
      "[126, 1155, 17, 0, 0, 0, 0, 0]\n"
     ]
    }
   ],
   "source": [
    "# Kernel.ParkVehicle(space_index=2,vehicle=0)\n",
    "Kernel.showLists()"
   ]
  },
  {
   "cell_type": "code",
   "execution_count": 138,
   "metadata": {
    "collapsed": true
   },
   "outputs": [],
   "source": [
    "foreignPriority =3\n",
    "Kernel.update_mainBias(foreignPriority=foreignPriority)"
   ]
  },
  {
   "cell_type": "code",
   "execution_count": 146,
   "metadata": {},
   "outputs": [
    {
     "name": "stdout",
     "output_type": "stream",
     "text": [
      "parking list : \n",
      "[0 1 0 0 0 0 0 0]\n",
      "distance_list : \n",
      "[1 0 1 2 3 4 5 6]\n",
      "nearestVehicleIdx_list : \n",
      "[1 1 1 1 1 1 1 1]\n",
      "priority list : \n",
      "[ 4 10  6  8  9  9  9  9]\n",
      "price list : \n",
      "[41 40 43 45 46 46 46 46]\n",
      "vehicleLabel list\n",
      "[-1 -1 -1 -1 -1 -1 -1 -1]\n",
      "parkingstarttime list\n",
      "[0, 1213, 0, 0, 0, 0, 0, 0]\n"
     ]
    }
   ],
   "source": [
    "Kernel.LeaveVehicle(space_index=0,vehicle=0)\n",
    "Kernel.showLists()"
   ]
  },
  {
   "cell_type": "code",
   "execution_count": 147,
   "metadata": {},
   "outputs": [
    {
     "name": "stdout",
     "output_type": "stream",
     "text": [
      "mainPriority\n",
      "4\n",
      "mainBias\n",
      "1\n",
      "totalIncome\n",
      "200\n"
     ]
    }
   ],
   "source": [
    "Kernel.showStatus()"
   ]
  },
  {
   "cell_type": "code",
   "execution_count": 46,
   "metadata": {
    "collapsed": true
   },
   "outputs": [],
   "source": [
    "import datetime\n",
    "import time"
   ]
  },
  {
   "cell_type": "code",
   "execution_count": 25,
   "metadata": {},
   "outputs": [
    {
     "data": {
      "text/plain": [
       "['Sat', 'Jan', '6', '16:29:57', '2018']"
      ]
     },
     "execution_count": 25,
     "metadata": {},
     "output_type": "execute_result"
    }
   ],
   "source": [
    "# datetime.datetime.now()\n",
    "time.ctime().split()"
   ]
  },
  {
   "cell_type": "code",
   "execution_count": 26,
   "metadata": {
    "collapsed": true
   },
   "outputs": [],
   "source": [
    "a = time.time() # sec base"
   ]
  },
  {
   "cell_type": "code",
   "execution_count": 27,
   "metadata": {
    "collapsed": true
   },
   "outputs": [],
   "source": [
    "b = time.time() -a"
   ]
  },
  {
   "cell_type": "code",
   "execution_count": 28,
   "metadata": {},
   "outputs": [
    {
     "data": {
      "text/plain": [
       "13.933289051055908"
      ]
     },
     "execution_count": 28,
     "metadata": {},
     "output_type": "execute_result"
    }
   ],
   "source": [
    "b"
   ]
  },
  {
   "cell_type": "code",
   "execution_count": 29,
   "metadata": {},
   "outputs": [
    {
     "name": "stdout",
     "output_type": "stream",
     "text": [
      "1515227480.590293\n"
     ]
    }
   ],
   "source": [
    "t = 1\n",
    "if t:\n",
    "    print(a)"
   ]
  }
 ],
 "metadata": {
  "kernelspec": {
   "display_name": "Python 3",
   "language": "python",
   "name": "python3"
  },
  "language_info": {
   "codemirror_mode": {
    "name": "ipython",
    "version": 3
   },
   "file_extension": ".py",
   "mimetype": "text/x-python",
   "name": "python",
   "nbconvert_exporter": "python",
   "pygments_lexer": "ipython3",
   "version": "3.6.1"
  }
 },
 "nbformat": 4,
 "nbformat_minor": 2
}
