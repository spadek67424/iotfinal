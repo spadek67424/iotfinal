{
 "cells": [
  {
   "cell_type": "code",
   "execution_count": 2,
   "metadata": {
    "collapsed": true
   },
   "outputs": [],
   "source": [
    "import numpy as np\n",
    "from kernel import kernel"
   ]
  },
  {
   "cell_type": "code",
   "execution_count": null,
   "metadata": {
    "collapsed": true
   },
   "outputs": [],
   "source": [
    "# user control event\n",
    "# env provide info \n",
    "\n",
    "parkingLot_num = 2\n",
    "\n",
    "class env:\n",
    "    def __init__(self, parking_lists):\n",
    "        self.parking_lists = parking_lists\n",
    "        self.parking_lot_num = len(parking_lists)\n",
    "    \n",
    "    def update_specific_parking_list(self, lot_idx, parking_list):\n",
    "        self.parking_lists[lot_idx] = parking_list\n",
    "        \n",
    "    def update_parking_lists(self, parking_lists):\n",
    "        self.parking_lists = parking_lists\n",
    "        \n",
    "    def show_parking_lots_info(self):\n",
    "        for lot_idx in range(self.parking_lot_num):\n",
    "            print('lot '+str(lot_idx)+' :')\n",
    "            print(self.parking_lists[lot_idx])"
   ]
  },
  {
   "cell_type": "markdown",
   "metadata": {},
   "source": [
    "# Main"
   ]
  },
  {
   "cell_type": "code",
   "execution_count": 3,
   "metadata": {},
   "outputs": [
    {
     "data": {
      "text/plain": [
       "[<kernel.kernel at 0x110ba8a20>, <kernel.kernel at 0x110ba8a90>]"
      ]
     },
     "execution_count": 3,
     "metadata": {},
     "output_type": "execute_result"
    }
   ],
   "source": [
    "lot_num = 2\n",
    "space_num = 8\n",
    "\n",
    "# def main():\n",
    "kernel_list = []\n",
    "for idx in range(lot_num):\n",
    "    kernel_list.append(kernel(block_num=space_num))\n",
    "\n",
    "Env = env(parking_list=[[0]*space_num]*lot_num)\n",
    "\n",
    "def ParkVehicle(lot_idx, space_idx, vehicle):\n",
    "    kernel_list[lot_idx].ParkVehicle(space_idx, vehicle)\n",
    "    Env.update_specific_parking_list(lot_idx, kernel_list[lot_idx].parking_list)\n",
    "    \n",
    "def showEnv():\n",
    "    Env.show_parking_lot_info()\n",
    "    "
   ]
  },
  {
   "cell_type": "code",
   "execution_count": null,
   "metadata": {
    "collapsed": true
   },
   "outputs": [],
   "source": [
    "# class user_simulation:\n",
    "    \n",
    "#     def __init__(self):\n",
    "#         self.scooterCount = 0\n",
    "#         self.carCount = 0\n",
    "#         self.currentWait_idx = 0\n",
    "        \n",
    "#         self.request_list = []\n",
    "#         self.countdown_list = [] # store seconds\n",
    " \n",
    "#     def createVehicle(self):\n",
    "#         self.request_list = np.random.randInt(2,size=10)\n",
    "\n",
    "#     def main(self):\n",
    "        \n",
    "    ############################\n",
    "    \n",
    "#     def check_countdown_list(): \n",
    "        \n",
    "    \n",
    "    \n",
    "        "
   ]
  },
  {
   "cell_type": "code",
   "execution_count": null,
   "metadata": {
    "collapsed": true
   },
   "outputs": [],
   "source": []
  }
 ],
 "metadata": {
  "kernelspec": {
   "display_name": "Python 3",
   "language": "python",
   "name": "python3"
  },
  "language_info": {
   "codemirror_mode": {
    "name": "ipython",
    "version": 3
   },
   "file_extension": ".py",
   "mimetype": "text/x-python",
   "name": "python",
   "nbconvert_exporter": "python",
   "pygments_lexer": "ipython3",
   "version": "3.6.1"
  }
 },
 "nbformat": 4,
 "nbformat_minor": 2
}
