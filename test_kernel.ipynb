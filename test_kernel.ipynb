{
 "cells": [
  {
   "cell_type": "code",
   "execution_count": 1,
   "metadata": {},
   "outputs": [],
   "source": [
    "import numpy as np\n",
    "import sys\n",
    "from kernel.kernel import kernel"
   ]
  },
  {
   "cell_type": "markdown",
   "metadata": {},
   "source": [
    "# Create Kernel"
   ]
  },
  {
   "cell_type": "code",
   "execution_count": 2,
   "metadata": {},
   "outputs": [],
   "source": [
    "num = 8\n",
    "Kernel = kernel(num) # 8 parking space"
   ]
  },
  {
   "cell_type": "markdown",
   "metadata": {},
   "source": [
    "# Park Vehicle"
   ]
  },
  {
   "cell_type": "code",
   "execution_count": 20,
   "metadata": {},
   "outputs": [],
   "source": [
    "Kernel.ParkVehicle(space_index=2,vehicle=0)\n",
    "# Kernel.ParkVehicle(space_index=5,vehicle=1)"
   ]
  },
  {
   "cell_type": "code",
   "execution_count": 25,
   "metadata": {},
   "outputs": [
    {
     "name": "stdout",
     "output_type": "stream",
     "text": [
      "parking list : \n",
      "[0 0 0 0 0 0 0 0]\n",
      "distance_list : \n",
      "[1 0 1 2 3 4 5 6]\n",
      "nearestVehicleIdx_list : \n",
      "[0 1 2 3 4 5 6 7]\n",
      "priority list : \n",
      "[0 0 0 0 0 0 0 0]\n",
      "price list : \n",
      "[40 40 40 40 40 40 40 40]\n",
      "vehicleLabel list\n",
      "[-1 -1 -1 -1 -1 -1 -1 -1]\n",
      "parkingstarttime list\n",
      "[0, 0, 0, 0, 0, 0, 0, 0]\n",
      "mainPriority\n",
      "0\n",
      "mainBias\n",
      "0\n",
      "totalIncome\n",
      "242\n"
     ]
    }
   ],
   "source": [
    "Kernel.showLists()\n",
    "Kernel.showStatus()"
   ]
  },
  {
   "cell_type": "markdown",
   "metadata": {},
   "source": [
    "# Leave Vehicle"
   ]
  },
  {
   "cell_type": "code",
   "execution_count": 24,
   "metadata": {},
   "outputs": [],
   "source": [
    "Kernel.LeaveVehicle(space_index=1)"
   ]
  },
  {
   "cell_type": "code",
   "execution_count": null,
   "metadata": {
    "collapsed": true
   },
   "outputs": [],
   "source": [
    "Kernel.showLists()"
   ]
  }
 ],
 "metadata": {
  "kernelspec": {
   "display_name": "Python 3",
   "language": "python",
   "name": "python3"
  },
  "language_info": {
   "codemirror_mode": {
    "name": "ipython",
    "version": 3
   },
   "file_extension": ".py",
   "mimetype": "text/x-python",
   "name": "python",
   "nbconvert_exporter": "python",
   "pygments_lexer": "ipython3",
   "version": "3.6.1"
  }
 },
 "nbformat": 4,
 "nbformat_minor": 2
}
